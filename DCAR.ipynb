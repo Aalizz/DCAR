{
 "cells": [
  {
   "cell_type": "code",
   "execution_count": 157,
   "outputs": [],
   "source": [
    "import time\n",
    "\n",
    "import numpy as np\n",
    "import pandas as pd\n",
    "import seaborn as sns\n",
    "import matplotlib.pyplot as plt\n",
    "%matplotlib inline\n",
    "\n",
    "import tensorflow as tf\n",
    "from keras.preprocessing.text import Tokenizer\n",
    "from keras_preprocessing.sequence import pad_sequences\n",
    "\n",
    "from sklearn.model_selection import train_test_split\n",
    "from sklearn.ensemble import RandomForestClassifier, ExtraTreesClassifier\n",
    "from sklearn import metrics\n",
    "from keras.layers import Conv1D, Add, Activation, Concatenate\n",
    "from keras.layers import Attention\n",
    "\n",
    "from sklearn.feature_extraction.text import TfidfVectorizer\n",
    "from imblearn.over_sampling import SMOTE\n",
    "from collections import Counter\n",
    "from keras import backend as K\n",
    "import os,random"
   ],
   "metadata": {
    "collapsed": false,
    "ExecuteTime": {
     "start_time": "2024-08-28T22:56:54.513072Z",
     "end_time": "2024-08-28T22:56:54.576588Z"
    }
   }
  },
  {
   "cell_type": "markdown",
   "source": [
    "# ***Utils***"
   ],
   "metadata": {
    "collapsed": false
   }
  },
  {
   "cell_type": "markdown",
   "source": [
    "## Dataset loading"
   ],
   "metadata": {
    "collapsed": false
   }
  },
  {
   "cell_type": "code",
   "execution_count": 158,
   "outputs": [],
   "source": [
    "def load_data(file_name):\n",
    "    \"\"\"Load and preprocess data.\"\"\"\n",
    "    df = pd.read_csv(\"./\" + file_name, encoding=\"ISO-8859-1\")\n",
    "    df = df.dropna(subset=[\"ProcessedMessage\"], axis=0)\n",
    "    # df.info()\n",
    "    return df.reset_index(drop=True)"
   ],
   "metadata": {
    "collapsed": false,
    "ExecuteTime": {
     "start_time": "2024-08-28T22:56:54.519069Z",
     "end_time": "2024-08-28T22:56:54.618587Z"
    }
   }
  },
  {
   "cell_type": "markdown",
   "source": [
    "## Get maximum input length"
   ],
   "metadata": {
    "collapsed": false
   }
  },
  {
   "cell_type": "code",
   "execution_count": 159,
   "outputs": [],
   "source": [
    "def get_max_input_length(docs):\n",
    "    \"\"\"Get the maximum input length from the documents.\"\"\"\n",
    "    return max(len(doc.split()) for doc in docs)"
   ],
   "metadata": {
    "collapsed": false,
    "ExecuteTime": {
     "start_time": "2024-08-28T22:56:54.534077Z",
     "end_time": "2024-08-28T22:56:54.620586Z"
    }
   }
  },
  {
   "cell_type": "markdown",
   "source": [
    "## Balance data"
   ],
   "metadata": {
    "collapsed": false
   }
  },
  {
   "cell_type": "code",
   "execution_count": 160,
   "outputs": [],
   "source": [
    "def balance_data(X_train, y_train, input_type=\"numerical\"):\n",
    "    \"\"\"Oversampling the dataset using SMOTE\"\"\"\n",
    "    counter = Counter(y_train)\n",
    "    print(\"Before SMOTE: \", counter)\n",
    "\n",
    "    if input_type == \"text\":\n",
    "        vectorizer = TfidfVectorizer()\n",
    "        X_train = vectorizer.fit_transform(X_train)\n",
    "\n",
    "    smote_model = SMOTE()\n",
    "    X_train, y_train = smote_model.fit_resample(X_train, y_train)\n",
    "\n",
    "    counter = Counter(y_train)\n",
    "    print(\"After SMOTE: \", counter)\n",
    "\n",
    "    if input_type == \"text\":\n",
    "        X_train = vectorizer.inverse_transform(X_train)\n",
    "        for i in range(len(X_train)):\n",
    "            X_train[i] = \" \".join(reversed(X_train[i]))\n",
    "\n",
    "    return X_train, y_train"
   ],
   "metadata": {
    "collapsed": false,
    "ExecuteTime": {
     "start_time": "2024-08-28T22:56:54.549586Z",
     "end_time": "2024-08-28T22:56:54.621588Z"
    }
   }
  },
  {
   "cell_type": "markdown",
   "source": [
    "## GloVe"
   ],
   "metadata": {
    "collapsed": false
   }
  },
  {
   "cell_type": "code",
   "execution_count": 161,
   "outputs": [],
   "source": [
    "def create_embedding_matrix(tokenizer, embedding_dim):\n",
    "    \"\"\"Create an embedding matrix using GloVe embeddings.\"\"\"\n",
    "    file_name = \"\"\n",
    "    embeddings_index = {}\n",
    "    if embedding_dim == 50:\n",
    "        file_name = \"glove.6B.50d.txt\"\n",
    "    elif embedding_dim == 100:\n",
    "        file_name = \"glove.6B.100d.txt\"\n",
    "    elif embedding_dim == 200:\n",
    "        file_name = \"glove.6B.200d.txt\"\n",
    "\n",
    "    with open(\"./\" + file_name, encoding='utf-8') as f:\n",
    "        for line in f:\n",
    "            values = line.split()\n",
    "            word = values[0]\n",
    "            coefs = np.asarray(values[1:], dtype=\"float32\")\n",
    "            embeddings_index[word] = coefs\n",
    "\n",
    "    print(\"Found %s word vectors.\" % len(embeddings_index))\n",
    "\n",
    "    embedding_matrix = np.zeros((len(tokenizer.word_index) + 1, embedding_dim))\n",
    "    for word, i in tokenizer.word_index.items():\n",
    "        embedding_vector = embeddings_index.get(word)\n",
    "        if embedding_vector is not None:\n",
    "            embedding_matrix[i] = embedding_vector\n",
    "\n",
    "    return embedding_matrix"
   ],
   "metadata": {
    "collapsed": false,
    "ExecuteTime": {
     "start_time": "2024-08-28T22:56:54.567590Z",
     "end_time": "2024-08-28T22:56:54.623588Z"
    }
   }
  },
  {
   "cell_type": "markdown",
   "source": [
    "## Text encoding/padding"
   ],
   "metadata": {
    "collapsed": false
   }
  },
  {
   "cell_type": "code",
   "execution_count": 162,
   "outputs": [],
   "source": [
    "def encode_text(docs_X_train, docs_X_test):\n",
    "    \"\"\"Encode text data into padded sequences.\"\"\"\n",
    "    tokenizer = Tokenizer()\n",
    "    tokenizer.fit_on_texts(docs_X_train)\n",
    "\n",
    "    encoded_docs_train = tokenizer.texts_to_sequences(docs_X_train)\n",
    "    encoded_docs_test = tokenizer.texts_to_sequences(docs_X_test)\n",
    "\n",
    "    padded_docs_train = pad_sequences(\n",
    "        encoded_docs_train,\n",
    "        maxlen=max_sequence_length,\n",
    "        padding=\"post\",\n",
    "        truncating=\"post\",\n",
    "    )\n",
    "    padded_docs_test = pad_sequences(\n",
    "        encoded_docs_test, maxlen=max_sequence_length, padding=\"post\", truncating=\"post\"\n",
    "    )\n",
    "\n",
    "    return padded_docs_train, padded_docs_test, tokenizer"
   ],
   "metadata": {
    "collapsed": false,
    "ExecuteTime": {
     "start_time": "2024-08-28T22:56:54.582587Z",
     "end_time": "2024-08-28T22:56:54.623588Z"
    }
   }
  },
  {
   "cell_type": "code",
   "execution_count": 163,
   "outputs": [],
   "source": [
    "def build_resnet_block(input_layer, filters, kernel_size):\n",
    "    \"\"\"Build a ResNet block with dual channels and spatial attention.\"\"\"\n",
    "    # First branch\n",
    "    x1 = Conv1D(filters, kernel_size, padding='same', activation='relu')(input_layer)\n",
    "    x1 = Conv1D(filters, kernel_size, padding='same')(x1)\n",
    "    shortcut1 = Conv1D(filters, kernel_size, padding='same')(input_layer)\n",
    "    x1 = Add()([x1, shortcut1])\n",
    "    x1 = Activation('relu')(x1)\n",
    "\n",
    "    # Second branch\n",
    "    x2 = Conv1D(filters, kernel_size, padding='same', activation='relu')(input_layer)\n",
    "    x2 = Conv1D(filters, kernel_size, padding='same')(x2)\n",
    "    shortcut2 = Conv1D(filters, kernel_size, padding='same')(input_layer)\n",
    "    x2 = Add()([x2, shortcut2])\n",
    "    x2 = Activation('relu')(x2)\n",
    "\n",
    "    # Apply attention mechanism to each branch output\n",
    "    x1_attention = Attention()([x1, x1])\n",
    "    x2_attention = Attention()([x2, x2])\n",
    "\n",
    "    x = Concatenate()([x1_attention, x2_attention])\n",
    "\n",
    "    return x"
   ],
   "metadata": {
    "collapsed": false,
    "ExecuteTime": {
     "start_time": "2024-08-28T22:56:54.598587Z",
     "end_time": "2024-08-28T22:56:54.623588Z"
    }
   }
  },
  {
   "cell_type": "markdown",
   "source": [
    "DCAR"
   ],
   "metadata": {
    "collapsed": false
   }
  },
  {
   "cell_type": "code",
   "execution_count": 164,
   "outputs": [],
   "source": [
    "def DCAR(X_train, X_test, y_train, y_test, params, class_weights, vocab_size, max_sequence_length, embedding_matrix, embedding_dim):\n",
    "    filters = params[\"filters\"]\n",
    "    kernel_size = params[\"kernel_size\"]\n",
    "    epochs = params[\"epochs\"]\n",
    "    num_resnet_blocks = params.get(\"num_resnet_blocks\", 2)  # Number of ResNet blocks\n",
    "    # attention_units = params.get(\"attention_units\", 64)    # Number of attention units\n",
    "    dropout_rate = params.get(\"dropout_rate\", 0.5)          # Dropout rate\n",
    "\n",
    "    input_layer = tf.keras.layers.Input(shape=(max_sequence_length,))\n",
    "    x = tf.keras.layers.Embedding(vocab_size, embedding_dim, input_length=max_sequence_length,\n",
    "                                  weights=[embedding_matrix], trainable=True, mask_zero=True)(input_layer)\n",
    "\n",
    "    # Build ResNet blocks\n",
    "    for _ in range(num_resnet_blocks):\n",
    "        x = build_resnet_block(x, filters, kernel_size)\n",
    "\n",
    "    # Dual-channel pooling\n",
    "    max_pool = tf.keras.layers.GlobalMaxPooling1D()(x)\n",
    "    avg_pool = tf.keras.layers.GlobalAveragePooling1D()(x)\n",
    "    pooled_output = tf.keras.layers.Concatenate()([max_pool, avg_pool])\n",
    "\n",
    "    x = tf.keras.layers.Dropout(dropout_rate)(pooled_output)  # Dropout layer\n",
    "    output_layer = tf.keras.layers.Dense(2, activation='softmax')(x)\n",
    "\n",
    "    # Compile and train the model\n",
    "    model = tf.keras.models.Model(inputs=input_layer, outputs=output_layer)\n",
    "    model.compile(loss='sparse_categorical_crossentropy', optimizer=tf.keras.optimizers.Adam(learning_rate=0.001), metrics=['accuracy'])\n",
    "    model.fit(X_train, y_train, class_weight=class_weights, epochs=epochs, verbose=0)\n",
    "\n",
    "    # Extract feature maps for further analysis or classification\n",
    "    feature_maps_model = tf.keras.models.Model(model.input, model.get_layer(index=-2).output)\n",
    "    start_time = time.time()\n",
    "    X_train_features = feature_maps_model.predict(X_train)\n",
    "    X_test_features = feature_maps_model.predict(X_test)\n",
    "\n",
    "    # Balance data if necessary\n",
    "    X_train_balanced, y_train_balanced = balance_data(X_train_features, y_train)\n",
    "\n",
    "    # Classify using DCAR_classify function (assuming it's defined elsewhere)\n",
    "    probs_train, probs_test, y_pred, y_proba = DCAR_classify(X_train_balanced, X_test_features, y_train_balanced, y_test, class_weights)\n",
    "\n",
    "    # Evaluate model performance\n",
    "    evaluate_model(y_test, y_pred)\n",
    "    fpr, tpr, auc = roc(y_test, y_proba)\n",
    "    end_time = time.time()\n",
    "    print(end_time-start_time)\n",
    "    return fpr, tpr, auc"
   ],
   "metadata": {
    "collapsed": false,
    "ExecuteTime": {
     "start_time": "2024-08-28T22:56:54.616590Z",
     "end_time": "2024-08-28T22:56:54.628587Z"
    }
   }
  },
  {
   "cell_type": "markdown",
   "source": [
    "## Classification"
   ],
   "metadata": {
    "collapsed": false
   }
  },
  {
   "cell_type": "code",
   "execution_count": 165,
   "outputs": [],
   "source": [
    "def DCAR_classify(X_train, X_test, y_train, y_test, class_weights):\n",
    "    \"\"\"Build DCAR's base classifiers (RandomForestClassifier and ExtraTreesClassifier)\"\"\"\n",
    "\n",
    "    classifier1 = RandomForestClassifier(\n",
    "        n_estimators=100, criterion=\"gini\", class_weight=class_weights, random_state=0\n",
    "    )\n",
    "    classifier2 = RandomForestClassifier(\n",
    "        n_estimators=100,\n",
    "        criterion=\"entropy\",\n",
    "        class_weight=class_weights,\n",
    "        random_state=0,\n",
    "    )\n",
    "    classifier3 = ExtraTreesClassifier(\n",
    "        n_estimators=100, criterion=\"gini\", class_weight=class_weights, random_state=0\n",
    "    )\n",
    "    classifier4 = ExtraTreesClassifier(\n",
    "        n_estimators=100,\n",
    "        criterion=\"entropy\",\n",
    "        class_weight=class_weights,\n",
    "        random_state=0,\n",
    "    )\n",
    "\n",
    "    # Classifier 1\n",
    "    classifier1.fit(X_train, y_train)\n",
    "    probs_train1 = classifier1.predict_proba(X_train)\n",
    "    probs_test1 = classifier1.predict_proba(X_test)\n",
    "\n",
    "    # Classifier 2\n",
    "    classifier2.fit(X_train, y_train)\n",
    "    probs_train2 = classifier2.predict_proba(X_train)\n",
    "    probs_test2 = classifier2.predict_proba(X_test)\n",
    "\n",
    "    # Classifier 3\n",
    "    classifier3.fit(X_train, y_train)\n",
    "    probs_train3 = classifier3.predict_proba(X_train)\n",
    "    probs_test3 = classifier3.predict_proba(X_test)\n",
    "\n",
    "    # Classifier 4\n",
    "    classifier4.fit(X_train, y_train)\n",
    "    probs_train4 = classifier4.predict_proba(X_train)\n",
    "    probs_test4 = classifier4.predict_proba(X_test)\n",
    "\n",
    "    probs_train = np.concatenate(\n",
    "        (probs_train1, probs_train2, probs_train3, probs_train4), axis=1\n",
    "    )\n",
    "    probs_test = np.concatenate(\n",
    "        (probs_test1, probs_test2, probs_test3, probs_test4), axis=1\n",
    "    )\n",
    "\n",
    "    y_pred = []\n",
    "    y_proba = []\n",
    "    for i in range(0, len(X_test)):\n",
    "        avg_ham = (\n",
    "            probs_test1[i][0]\n",
    "            + probs_test2[i][0]\n",
    "            + probs_test3[i][0]\n",
    "            + probs_test4[i][0]\n",
    "        ) / 4\n",
    "        avg_spam = (\n",
    "            probs_test1[i][1]\n",
    "            + probs_test2[i][1]\n",
    "            + probs_test3[i][1]\n",
    "            + probs_test4[i][1]\n",
    "        ) / 4\n",
    "        if avg_ham > avg_spam:\n",
    "            # ham\n",
    "            y_pred.append(0)\n",
    "        else:\n",
    "            # spam\n",
    "            y_pred.append(1)\n",
    "\n",
    "        max_spam = max(\n",
    "            [probs_test1[i][1], probs_test2[i][1], probs_test3[i][1], probs_test4[i][1]]\n",
    "        )\n",
    "        y_proba.append(max_spam)\n",
    "\n",
    "    return probs_train, probs_test, y_pred, y_proba"
   ],
   "metadata": {
    "collapsed": false,
    "ExecuteTime": {
     "start_time": "2024-08-28T22:56:54.631592Z",
     "end_time": "2024-08-28T22:56:54.643594Z"
    }
   }
  },
  {
   "cell_type": "markdown",
   "source": [
    "## Evaluating"
   ],
   "metadata": {
    "collapsed": false
   }
  },
  {
   "cell_type": "code",
   "execution_count": 166,
   "outputs": [],
   "source": [
    "def evaluate_model(y_test, y_pred):\n",
    "    \"\"\"Plot confusion matrix and print classification report\"\"\"\n",
    "    target_names = [\"Ham\", \"Spam\"]\n",
    "\n",
    "    # 检查 y_test 和 y_pred 中的类别\n",
    "    print(\"Unique classes in y_test:\", np.unique(y_test))\n",
    "    print(\"Unique classes in y_pred:\", np.unique(y_pred))\n",
    "\n",
    "    # 显式指定 labels 参数\n",
    "    labels = [0, 1]\n",
    "    plot_confusion_matrix(y_test, y_pred, target_names)\n",
    "    print(metrics.classification_report(y_test, y_pred, labels=labels, target_names=target_names, digits=4))\n",
    "\n",
    "def plot_confusion_matrix(y_test, y_pred, classes):\n",
    "    cm = metrics.confusion_matrix(y_test, y_pred)\n",
    "    cm_normalized = cm.astype('float') / cm.sum(axis=1)[:, np.newaxis]\n",
    "    plt.figure(figsize=(8, 6))\n",
    "    sns.heatmap(cm_normalized, annot=True, fmt='.2%', xticklabels=classes, yticklabels=classes, cmap='Blues')\n",
    "    plt.xlabel('Predicted')\n",
    "    plt.ylabel('True')\n",
    "    # plt.savefig(f\"./Figures/confusion_matrix.pdf\")\n",
    "    plt.show()\n",
    "\n",
    "def roc(y_test, y_proba):\n",
    "    \"\"\"Calculate ROC curve\"\"\"\n",
    "    fpr, tpr, _ = metrics.roc_curve(y_test, y_proba)\n",
    "    auc = metrics.roc_auc_score(y_test, y_proba)\n",
    "    print(fpr,tpr,auc)\n",
    "    return fpr, tpr, auc"
   ],
   "metadata": {
    "collapsed": false,
    "ExecuteTime": {
     "start_time": "2024-08-28T22:56:54.646105Z",
     "end_time": "2024-08-28T22:56:54.681106Z"
    }
   }
  },
  {
   "cell_type": "markdown",
   "source": [
    "# ***Plot ROC for All Models***"
   ],
   "metadata": {
    "collapsed": false
   }
  },
  {
   "cell_type": "code",
   "execution_count": 167,
   "outputs": [],
   "source": [
    "def plot_ROC_all(plot_name, result_table):\n",
    "    \"\"\"Plot multiple ROC-Curve\"\"\"\n",
    "    fig = plt.figure(figsize=(8, 6))\n",
    "    for i in result_table.index:\n",
    "        plt.plot(result_table.loc[i][\"fpr\"], result_table.loc[i][\"tpr\"], label=\"{}, AUC={:.3f}\".format(i, result_table.loc[i][\"auc\"]))\n",
    "    plt.plot([0, 1], [0, 1], color=\"orange\", linestyle=\"--\")\n",
    "    plt.xticks(np.arange(0.0, 1.1, step=0.1))\n",
    "    plt.xlabel(\"False Positive Rate\", fontsize=15)\n",
    "    plt.yticks(np.arange(0.0, 1.1, step=0.1))\n",
    "    plt.ylabel(\"True Positive Rate\", fontsize=15)\n",
    "    plt.legend(prop={\"size\": 13}, loc=\"lower right\")\n",
    "    plt.show()\n",
    "    # fig.savefig(\"./Figures/\" + plot_name + \".pdf\")"
   ],
   "metadata": {
    "collapsed": false,
    "ExecuteTime": {
     "start_time": "2024-08-28T22:56:54.660106Z",
     "end_time": "2024-08-28T22:56:54.681106Z"
    }
   }
  },
  {
   "cell_type": "markdown",
   "source": [
    "# ***Main***"
   ],
   "metadata": {
    "collapsed": false
   }
  },
  {
   "cell_type": "code",
   "execution_count": 168,
   "outputs": [
    {
     "name": "stdout",
     "output_type": "stream",
     "text": [
      "Found 400000 word vectors.\n",
      "the time of preprocess and glove is 7.7248780727386475\n",
      "\n",
      "*******************************Run DCAR*******************************\n",
      "\n",
      "125/125 [==============================] - 5s 35ms/step\n",
      "32/32 [==============================] - 1s 33ms/step\n",
      "Before SMOTE:  Counter({0: 2238, 1: 1743})\n",
      "After SMOTE:  Counter({0: 2238, 1: 2238})\n",
      "Unique classes in y_test: [0 1]\n",
      "Unique classes in y_pred: [0 1]\n"
     ]
    },
    {
     "data": {
      "text/plain": "<Figure size 800x600 with 2 Axes>",
      "image/png": "[encoded data removed]"
     },
     "metadata": {},
     "output_type": "display_data"
    },
    {
     "name": "stdout",
     "output_type": "stream",
     "text": [
      "              precision    recall  f1-score   support\n",
      "\n",
      "         Ham     0.9342    0.9325    0.9333       563\n",
      "        Spam     0.9124    0.9145    0.9135       433\n",
      "\n",
      "    accuracy                         0.9247       996\n",
      "   macro avg     0.9233    0.9235    0.9234       996\n",
      "weighted avg     0.9247    0.9247    0.9247       996\n",
      "\n",
      "[0.         0.0053286  0.0053286  0.0053286  0.0053286  0.0053286\n",
      " 0.0053286  0.0053286  0.0053286  0.0071048  0.0071048  0.0071048\n",
      " 0.0071048  0.00888099 0.00888099 0.01065719 0.01065719 0.01243339\n",
      " 0.01243339 0.01420959 0.01420959 0.01776199 0.01776199 0.01953819\n",
      " 0.01953819 0.02131439 0.02131439 0.02486679 0.02486679 0.03019538\n",
      " 0.03019538 0.03019538 0.03019538 0.03374778 0.03374778 0.03730018\n",
      " 0.04085258 0.04262877 0.04262877 0.04440497 0.04618117 0.04618117\n",
      " 0.04795737 0.05150977 0.05328597 0.05328597 0.05506217 0.05506217\n",
      " 0.05861456 0.05861456 0.06216696 0.06216696 0.07104796 0.07104796\n",
      " 0.07282416 0.07282416 0.07460036 0.07460036 0.08348135 0.08348135\n",
      " 0.08525755 0.08525755 0.08703375 0.08703375 0.09058615 0.09413854\n",
      " 0.09591474 0.09591474 0.09769094 0.09769094 0.09946714 0.09946714\n",
      " 0.10124334 0.10124334 0.10834813 0.10834813 0.11190053 0.11190053\n",
      " 0.11900533 0.11900533 0.12611012 0.12611012 0.12788632 0.12966252\n",
      " 0.13676732 0.13676732 0.14387211 0.14387211 0.14742451 0.14920071\n",
      " 0.15452931 0.15452931 0.15630551 0.15630551 0.1651865  0.1687389\n",
      " 0.17761989 0.17939609 0.18294849 0.18294849 0.18472469 0.18650089\n",
      " 0.19182948 0.19182948 0.19360568 0.19360568 0.19538188 0.19893428\n",
      " 0.20603908 0.20959147 0.21847247 0.22735346 0.23623446 0.23801066\n",
      " 0.24333925 0.24689165 0.25044405 0.25577265 0.27708703 0.28063943\n",
      " 0.28596803 0.29307282 0.35879218 0.36056838 0.36412078 0.36589698\n",
      " 0.36944938 0.37477798 0.38188277 0.38721137 0.39076377 0.39964476\n",
      " 0.41030195 1.        ] [0.         0.74133949 0.74364896 0.75057737 0.75981524 0.76443418\n",
      " 0.76674365 0.78290993 0.7852194  0.7852194  0.78983834 0.79676674\n",
      " 0.80138568 0.80138568 0.81062356 0.81062356 0.81524249 0.81524249\n",
      " 0.81986143 0.81986143 0.82448037 0.82448037 0.82678984 0.82678984\n",
      " 0.83140878 0.83140878 0.83602771 0.83602771 0.83833718 0.83833718\n",
      " 0.84295612 0.84988453 0.852194   0.852194   0.86143187 0.86143187\n",
      " 0.86374134 0.86374134 0.86836028 0.86836028 0.87759815 0.88683603\n",
      " 0.88683603 0.89145497 0.89145497 0.89376443 0.89376443 0.89838337\n",
      " 0.89838337 0.90762125 0.90762125 0.90993072 0.90993072 0.91224018\n",
      " 0.91224018 0.91454965 0.91454965 0.91685912 0.91685912 0.91916859\n",
      " 0.91916859 0.92147806 0.92147806 0.92378753 0.92378753 0.926097\n",
      " 0.926097   0.92840647 0.92840647 0.93071594 0.93071594 0.9330254\n",
      " 0.9330254  0.93533487 0.93533487 0.93764434 0.93764434 0.93995381\n",
      " 0.93995381 0.94226328 0.94226328 0.94457275 0.94457275 0.94688222\n",
      " 0.94688222 0.95150115 0.95150115 0.95381062 0.95381062 0.95612009\n",
      " 0.95612009 0.95842956 0.95842956 0.96073903 0.96073903 0.96073903\n",
      " 0.96073903 0.9630485  0.9630485  0.96535797 0.96535797 0.96766744\n",
      " 0.96766744 0.96997691 0.96997691 0.97228637 0.97228637 0.97228637\n",
      " 0.97228637 0.97228637 0.97228637 0.97690531 0.97690531 0.97921478\n",
      " 0.97921478 0.97921478 0.97921478 0.97921478 0.98614319 0.98614319\n",
      " 0.98845266 0.98845266 0.99538106 0.99538106 0.99538106 0.99538106\n",
      " 0.99538106 0.99538106 0.99538106 0.99538106 0.99538106 0.99538106\n",
      " 0.99538106 1.        ] 0.9766181664540423\n",
      "15.047680139541626\n",
      "AUC: 0.9766181664540423\n"
     ]
    }
   ],
   "source": [
    "df = load_data(\"ExAIS_SMS_SPAM_DATA2.csv\")\n",
    "\n",
    "data = df.drop([\"Label\"], axis=1)\n",
    "targets = df[\"Label\"]\n",
    "start_time = time.time()\n",
    "X_train, X_test, y_train, y_test = train_test_split(data, targets, test_size=0.20, random_state=42)\n",
    "\n",
    "docs_X_train = X_train[\"ProcessedMessage\"]\n",
    "docs_X_test = X_test[\"ProcessedMessage\"]\n",
    "max_sequence_length = get_max_input_length(docs_X_train)\n",
    "padded_docs_train, padded_docs_test, tokenizer = encode_text(docs_X_train, docs_X_test)\n",
    "vocab_size = len(tokenizer.word_index) + 1\n",
    "embedding_dim = 100\n",
    "embedding_matrix = create_embedding_matrix(tokenizer, embedding_dim)\n",
    "end_time = time.time()\n",
    "params = {\"filters\": 64, \"kernel_size\": 3, \"units\": 64, \"epochs\": 5}\n",
    "class_weights = None\n",
    "print(\"the time of preprocess and glove is {}\".format(end_time-start_time))\n",
    "print(\"\\n*******************************Run DCAR*******************************\\n\")\n",
    "DCAR_fpr, DCAR_tpr, DCAR_auc = DCAR(\n",
    "    padded_docs_train,\n",
    "    padded_docs_test,\n",
    "    y_train,\n",
    "    y_test,\n",
    "    params=params,\n",
    "    class_weights=class_weights,\n",
    "    vocab_size=vocab_size,\n",
    "    max_sequence_length=max_sequence_length,\n",
    "    embedding_matrix=embedding_matrix,\n",
    "    embedding_dim=embedding_dim,\n",
    ")\n",
    "\n",
    "print(f\"AUC: {DCAR_auc}\")"
   ],
   "metadata": {
    "collapsed": false,
    "ExecuteTime": {
     "start_time": "2024-08-28T22:56:54.676105Z",
     "end_time": "2024-08-28T22:58:31.196151Z"
    }
   }
  },
  {
   "cell_type": "markdown",
   "source": [],
   "metadata": {
    "collapsed": false
   }
  },
  {
   "cell_type": "code",
   "execution_count": 168,
   "outputs": [],
   "source": [],
   "metadata": {
    "collapsed": false,
    "ExecuteTime": {
     "start_time": "2024-08-28T22:58:31.138296Z",
     "end_time": "2024-08-28T22:58:31.200153Z"
    }
   }
  },
  {
   "cell_type": "markdown",
   "source": [],
   "metadata": {
    "collapsed": false
   }
  },
  {
   "cell_type": "code",
   "execution_count": 168,
   "outputs": [],
   "source": [],
   "metadata": {
    "collapsed": false,
    "ExecuteTime": {
     "start_time": "2024-08-28T22:58:31.152807Z",
     "end_time": "2024-08-28T22:58:31.200153Z"
    }
   }
  }
 ],
 "metadata": {
  "kernelspec": {
   "display_name": "Python 3",
   "language": "python",
   "name": "python3"
  },
  "language_info": {
   "codemirror_mode": {
    "name": "ipython",
    "version": 2
   },
   "file_extension": ".py",
   "mimetype": "text/x-python",
   "name": "python",
   "nbconvert_exporter": "python",
   "pygments_lexer": "ipython2",
   "version": "2.7.6"
  }
 },
 "nbformat": 4,
 "nbformat_minor": 0
}
